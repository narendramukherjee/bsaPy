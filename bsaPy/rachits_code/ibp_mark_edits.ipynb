{
 "cells": [
  {
   "cell_type": "code",
   "execution_count": 1,
   "metadata": {},
   "outputs": [],
   "source": [
    "import numpy as np\n",
    "\n",
    "import torch\n",
    "import torch.nn as nn\n",
    "import torch.nn.functional as F\n",
    "from torch import distributions\n",
    "import numpy as np\n",
    "import pdb  # noqa: F401\n",
    "from collections import OrderedDict\n",
    "\n",
    "from utils import SMALL, log_sum_exp  # noqa: F401\n",
    "import shared"
   ]
  },
  {
   "cell_type": "code",
   "execution_count": 2,
   "metadata": {},
   "outputs": [],
   "source": [
    "ar = range(0,44100*10,1)\n",
    "wav = np.sin(ar*400)\n",
    "wavs = [wav[i*44100:(i+1)*44100] for i in range(10)]\n",
    "wavs = torch.Tensor(wavs)"
   ]
  },
  {
   "cell_type": "code",
   "execution_count": 12,
   "metadata": {},
   "outputs": [],
   "source": [
    "class MF_IBP(nn.Module):\n",
    "\n",
    "    def __init__(self,N_SAMPLES,K=6,a=1,b=1,sigma_n=0.5,mu_phi=100,sigma_phi=0.5,mu_w=0,sigma_w=0.5):\n",
    "        super(MF_IBP, self).__init__()\n",
    "        self.truncation = K\n",
    "        self.num_features = K\n",
    "        self.sigma_n = sigma_n\n",
    "        self.N_SAMPLES = N_SAMPLES\n",
    "        \n",
    "        # phi are the logs of the frequencies of the sines\n",
    "        self.phi_mean = nn.Parameter(torch.zeros(self.num_features,1))\n",
    "        self.phi_logvar = nn.Parameter(torch.zeros(self.num_features,1))\n",
    "\n",
    "        # weights\n",
    "        self.w_mean = nn.Parameter(torch.ones(self.num_features,10))\n",
    "        self.w_logvar = nn.Parameter(torch.zeros(self.num_features,10))\n",
    "\n",
    "        self.p_pi_alpha = a/float(K)\n",
    "        self.p_pi_beta = b*(K-1)/float(K)\n",
    "\n",
    "        # inverse softplus\n",
    "        a_val = np.log(np.exp(self.p_pi_alpha) - 1)\n",
    "        b_val = np.log(np.exp(self.p_pi_beta) - 1)\n",
    "        self.q_pi_alpha = nn.Parameter(torch.Tensor(self.truncation).zero_() + a_val)\n",
    "        self.q_pi_beta = nn.Parameter(torch.Tensor(self.truncation).zero_() + b_val)\n",
    "        \n",
    "        # These are broadcast up into the right shape (they are diagonal)\n",
    "        self.p_phi = distributions.Normal(loc=mu_phi,scale=sigma_phi)\n",
    "        self.p_w = distributions.Normal(loc=mu_w,scale=sigma_w)\n",
    "\n",
    "\n",
    "    def forward(self, x):\n",
    "        \n",
    "        batch_sz = x.size()[0]\n",
    "        sz = self.q_pi_alpha.size()\n",
    "        print \"batch sz\", batch_sz\n",
    "        print \"sz\",sz\n",
    "\n",
    "        p_pi = distributions.Beta(torch.ones(sz)*self.p_pi_alpha,torch.ones(sz)*self.p_pi_beta)\n",
    "\n",
    "        beta_a = F.softplus(self.q_pi_alpha) + 0.01\n",
    "        beta_b = F.softplus(self.q_pi_beta) + 0.01\n",
    "        q_pi = distributions.Beta(beta_a, beta_b)\n",
    "\n",
    "        # Differentiable Sample Knowles et al. \n",
    "        qpi_sample = q_pi.rsample()\n",
    "        qpi_sample_N = qpi_sample.repeat(batch_sz,1)\n",
    "        q_z = shared.STRelaxedBernoulli(temperature=0.1,probs=qpi_sample_N)\n",
    "        z = q_z.rsample() \n",
    "        q_z = distributions.Bernoulli(probs=qpi_sample)\n",
    "        \n",
    "        q_phi = distributions.Normal(loc=self.phi_mean,scale=(self.phi_logvar/2).exp())\n",
    "        q_w = distributions.Normal(loc=self.w_mean,scale=(self.w_logvar/2).exp())\n",
    "        \n",
    "        # For now, just take the mean\n",
    "        phi = q_phi.mean\n",
    "        w = q_w.mean\n",
    "\n",
    "        # Alternatively, sample\n",
    "        # phi = q_phi.rsample()\n",
    "        # w = q_w.rsample()\n",
    "\n",
    "        # NLL\n",
    "        samples_onedatapoint = x[0].shape[0]\n",
    "        sinbasis = torch.ones(self.truncation,samples_onedatapoint)*torch.arange(0,samples_onedatapoint,1)\n",
    "\n",
    "        for k in range(self.truncation):\n",
    "            sinbasis[k] = torch.sin(sinbasis[k]*phi[k])\n",
    "        \n",
    "        z = torch.transpose(z, 0, 1)\n",
    "        zw = torch.mul(z,w) # z and w multiplied elementwise\n",
    "        #print \"x shape\", x.shape\n",
    "        #x_mean = torch.mm(zw,sinbasis)\n",
    "        \n",
    "        nll = 0\n",
    "        \n",
    "        print \"NSAMPLES is \",N_SAMPLES\n",
    "        for i in range(batch_sz):\n",
    "            masked_weights = zw[:,i].view(-1,1).repeat(1,samples_onedatapoint)\n",
    "            contributions = torch.mul(masked_weights,sinbasis)\n",
    "            xi_mean = torch.sum(contributions, dim=0)\n",
    "            \n",
    "            #xi_mean = torch.sin(400*torch.arange(0,samples_onedatapoint,1))\n",
    "                        \n",
    "            #nll_i = -(distributions.\n",
    "            #          MultivariateNormal(loc=xi_mean,covariance_matrix=torch.eye(xi_mean.shape[0])*self.sigma_n).log_prob(x[i]))\n",
    "            \n",
    "            nll_i = torch.sum(distributions.Normal(loc=xi_mean,scale=self.sigma_n).log_prob(x[i]))\n",
    "            \n",
    "            print nll_i\n",
    "            nll += nll_i\n",
    "                    \n",
    "        return nll, p_pi, q_pi, q_z, q_phi, q_w, sinbasis"
   ]
  },
  {
   "cell_type": "code",
   "execution_count": 13,
   "metadata": {},
   "outputs": [],
   "source": [
    "SAMPLE_RATE=44100\n",
    "NUM_SECONDS=10\n",
    "N_SAMPLES = SAMPLE_RATE*NUM_SECONDS\n",
    "m = MF_IBP(N_SAMPLES)"
   ]
  },
  {
   "cell_type": "code",
   "execution_count": 14,
   "metadata": {},
   "outputs": [
    {
     "name": "stdout",
     "output_type": "stream",
     "text": [
      "batch sz 10\n",
      "sz torch.Size([6])\n",
      "NSAMPLES is  441000\n",
      "tensor(-98154.0703)\n",
      "tensor(-98157.6172)\n",
      "tensor(-98156.2891)\n",
      "tensor(-98157.0781)\n",
      "tensor(-98154.1562)\n",
      "tensor(-98157.9219)\n",
      "tensor(-98156.4453)\n",
      "tensor(-98156.0938)\n",
      "tensor(-98155.1797)\n",
      "tensor(-98157.4375)\n"
     ]
    },
    {
     "data": {
      "text/plain": [
       "(tensor(1.00000e+05 *\n",
       "        -9.8156),\n",
       " Beta(),\n",
       " Beta(),\n",
       " Bernoulli(),\n",
       " Normal(),\n",
       " Normal(),\n",
       " tensor([[ 0.,  0.,  0.,  ...,  0.,  0.,  0.],\n",
       "         [ 0.,  0.,  0.,  ...,  0.,  0.,  0.],\n",
       "         [ 0.,  0.,  0.,  ...,  0.,  0.,  0.],\n",
       "         [ 0.,  0.,  0.,  ...,  0.,  0.,  0.],\n",
       "         [ 0.,  0.,  0.,  ...,  0.,  0.,  0.],\n",
       "         [ 0.,  0.,  0.,  ...,  0.,  0.,  0.]]))"
      ]
     },
     "execution_count": 14,
     "metadata": {},
     "output_type": "execute_result"
    }
   ],
   "source": [
    "m.forward(wavs)"
   ]
  },
  {
   "cell_type": "code",
   "execution_count": null,
   "metadata": {},
   "outputs": [],
   "source": []
  },
  {
   "cell_type": "code",
   "execution_count": null,
   "metadata": {},
   "outputs": [],
   "source": []
  },
  {
   "cell_type": "code",
   "execution_count": null,
   "metadata": {},
   "outputs": [],
   "source": []
  },
  {
   "cell_type": "code",
   "execution_count": null,
   "metadata": {},
   "outputs": [],
   "source": []
  },
  {
   "cell_type": "code",
   "execution_count": null,
   "metadata": {},
   "outputs": [],
   "source": []
  },
  {
   "cell_type": "code",
   "execution_count": 9,
   "metadata": {},
   "outputs": [],
   "source": [
    "ones = torch.ones(3)\n"
   ]
  },
  {
   "cell_type": "code",
   "execution_count": 10,
   "metadata": {},
   "outputs": [
    {
     "data": {
      "text/plain": [
       "tensor([ 1.,  1.,  1.])"
      ]
     },
     "execution_count": 10,
     "metadata": {},
     "output_type": "execute_result"
    }
   ],
   "source": [
    "ones"
   ]
  },
  {
   "cell_type": "code",
   "execution_count": 11,
   "metadata": {},
   "outputs": [
    {
     "data": {
      "text/plain": [
       "tensor([ 0.,  1.,  2.])"
      ]
     },
     "execution_count": 11,
     "metadata": {},
     "output_type": "execute_result"
    }
   ],
   "source": [
    "torch.arange(0,3,1)"
   ]
  },
  {
   "cell_type": "code",
   "execution_count": null,
   "metadata": {},
   "outputs": [],
   "source": []
  }
 ],
 "metadata": {
  "kernelspec": {
   "display_name": "Python 2",
   "language": "python",
   "name": "python2"
  },
  "language_info": {
   "codemirror_mode": {
    "name": "ipython",
    "version": 2
   },
   "file_extension": ".py",
   "mimetype": "text/x-python",
   "name": "python",
   "nbconvert_exporter": "python",
   "pygments_lexer": "ipython2",
   "version": "2.7.14"
  }
 },
 "nbformat": 4,
 "nbformat_minor": 2
}
